{
 "cells": [
  {
   "cell_type": "code",
   "execution_count": 4,
   "metadata": {
    "collapsed": true,
    "slideshow": {
     "slide_type": "skip"
    }
   },
   "outputs": [],
   "source": [
    "%matplotlib inline"
   ]
  },
  {
   "cell_type": "markdown",
   "metadata": {
    "slideshow": {
     "slide_type": "slide"
    }
   },
   "source": [
    "# Python e o Cientista de Dados"
   ]
  },
  {
   "cell_type": "markdown",
   "metadata": {
    "slideshow": {
     "slide_type": "slide"
    }
   },
   "source": [
    "# Big Data = Ciência + Dados"
   ]
  },
  {
   "cell_type": "markdown",
   "metadata": {
    "slideshow": {
     "slide_type": "subslide"
    }
   },
   "source": [
    "> In the past few years, Big Data has morphed from being yet another IT buzzword into a virtual tsunami sweeping over enterprises and consumers alike. Humans, organizations, devices, and machines of all types now contribute huge waves of data into what’s being called the data universe. And just like the other, real universe, the data universe continues to expand rapidly.  \n",
    "\n",
    "http://www.technologyreview.com/view/530371/big-data-creating-the-power-to-move-heaven-and-earth/"
   ]
  },
  {
   "cell_type": "markdown",
   "metadata": {
    "slideshow": {
     "slide_type": "subslide"
    }
   },
   "source": [
    "* Total de dados produzidos em 2013: 4.4 zettabytes (trilhões de gigabytes)\n",
    "* Previsão para 2020: 44 zettabytes\n",
    "* 75% dos dados digitais criado por clientes\n",
    "* 4,5 bilhões de likes no Facebook\n",
    "* 111 MB por usuário do Facebook\n",
    "* 154 bilhões de e-mails enviados por dia\n",
    "* 99.5% dos dados não foram analisados"
   ]
  },
  {
   "cell_type": "markdown",
   "metadata": {
    "slideshow": {
     "slide_type": "subslide"
    }
   },
   "source": [
    "Receita do Facebook no segundo semestre de 2014?\n",
    "\n",
    "**$ 2.9 bilhões**"
   ]
  },
  {
   "cell_type": "markdown",
   "metadata": {
    "slideshow": {
     "slide_type": "slide"
    }
   },
   "source": [
    "# Cientista de Dados"
   ]
  }
 ],
 "metadata": {
  "celltoolbar": "Slideshow",
  "kernelspec": {
   "display_name": "Python 2",
   "language": "python",
   "name": "python2"
  },
  "language_info": {
   "codemirror_mode": {
    "name": "ipython",
    "version": 2
   },
   "file_extension": ".py",
   "mimetype": "text/x-python",
   "name": "python",
   "nbconvert_exporter": "python",
   "pygments_lexer": "ipython2",
   "version": "2.7.10"
  }
 },
 "nbformat": 4,
 "nbformat_minor": 0
}
